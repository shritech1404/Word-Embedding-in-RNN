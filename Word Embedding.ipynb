{
 "cells": [
  {
   "cell_type": "code",
   "execution_count": 1,
   "metadata": {},
   "outputs": [
    {
     "name": "stderr",
     "output_type": "stream",
     "text": [
      "Using TensorFlow backend.\n",
      "C:\\Users\\hp\\anaconda\\lib\\site-packages\\tensorflow\\python\\framework\\dtypes.py:516: FutureWarning: Passing (type, 1) or '1type' as a synonym of type is deprecated; in a future version of numpy, it will be understood as (type, (1,)) / '(1,)type'.\n",
      "  _np_qint8 = np.dtype([(\"qint8\", np.int8, 1)])\n",
      "C:\\Users\\hp\\anaconda\\lib\\site-packages\\tensorflow\\python\\framework\\dtypes.py:517: FutureWarning: Passing (type, 1) or '1type' as a synonym of type is deprecated; in a future version of numpy, it will be understood as (type, (1,)) / '(1,)type'.\n",
      "  _np_quint8 = np.dtype([(\"quint8\", np.uint8, 1)])\n",
      "C:\\Users\\hp\\anaconda\\lib\\site-packages\\tensorflow\\python\\framework\\dtypes.py:518: FutureWarning: Passing (type, 1) or '1type' as a synonym of type is deprecated; in a future version of numpy, it will be understood as (type, (1,)) / '(1,)type'.\n",
      "  _np_qint16 = np.dtype([(\"qint16\", np.int16, 1)])\n",
      "C:\\Users\\hp\\anaconda\\lib\\site-packages\\tensorflow\\python\\framework\\dtypes.py:519: FutureWarning: Passing (type, 1) or '1type' as a synonym of type is deprecated; in a future version of numpy, it will be understood as (type, (1,)) / '(1,)type'.\n",
      "  _np_quint16 = np.dtype([(\"quint16\", np.uint16, 1)])\n",
      "C:\\Users\\hp\\anaconda\\lib\\site-packages\\tensorflow\\python\\framework\\dtypes.py:520: FutureWarning: Passing (type, 1) or '1type' as a synonym of type is deprecated; in a future version of numpy, it will be understood as (type, (1,)) / '(1,)type'.\n",
      "  _np_qint32 = np.dtype([(\"qint32\", np.int32, 1)])\n",
      "C:\\Users\\hp\\anaconda\\lib\\site-packages\\tensorflow\\python\\framework\\dtypes.py:525: FutureWarning: Passing (type, 1) or '1type' as a synonym of type is deprecated; in a future version of numpy, it will be understood as (type, (1,)) / '(1,)type'.\n",
      "  np_resource = np.dtype([(\"resource\", np.ubyte, 1)])\n",
      "C:\\Users\\hp\\anaconda\\lib\\site-packages\\tensorboard\\compat\\tensorflow_stub\\dtypes.py:541: FutureWarning: Passing (type, 1) or '1type' as a synonym of type is deprecated; in a future version of numpy, it will be understood as (type, (1,)) / '(1,)type'.\n",
      "  _np_qint8 = np.dtype([(\"qint8\", np.int8, 1)])\n",
      "C:\\Users\\hp\\anaconda\\lib\\site-packages\\tensorboard\\compat\\tensorflow_stub\\dtypes.py:542: FutureWarning: Passing (type, 1) or '1type' as a synonym of type is deprecated; in a future version of numpy, it will be understood as (type, (1,)) / '(1,)type'.\n",
      "  _np_quint8 = np.dtype([(\"quint8\", np.uint8, 1)])\n",
      "C:\\Users\\hp\\anaconda\\lib\\site-packages\\tensorboard\\compat\\tensorflow_stub\\dtypes.py:543: FutureWarning: Passing (type, 1) or '1type' as a synonym of type is deprecated; in a future version of numpy, it will be understood as (type, (1,)) / '(1,)type'.\n",
      "  _np_qint16 = np.dtype([(\"qint16\", np.int16, 1)])\n",
      "C:\\Users\\hp\\anaconda\\lib\\site-packages\\tensorboard\\compat\\tensorflow_stub\\dtypes.py:544: FutureWarning: Passing (type, 1) or '1type' as a synonym of type is deprecated; in a future version of numpy, it will be understood as (type, (1,)) / '(1,)type'.\n",
      "  _np_quint16 = np.dtype([(\"quint16\", np.uint16, 1)])\n",
      "C:\\Users\\hp\\anaconda\\lib\\site-packages\\tensorboard\\compat\\tensorflow_stub\\dtypes.py:545: FutureWarning: Passing (type, 1) or '1type' as a synonym of type is deprecated; in a future version of numpy, it will be understood as (type, (1,)) / '(1,)type'.\n",
      "  _np_qint32 = np.dtype([(\"qint32\", np.int32, 1)])\n",
      "C:\\Users\\hp\\anaconda\\lib\\site-packages\\tensorboard\\compat\\tensorflow_stub\\dtypes.py:550: FutureWarning: Passing (type, 1) or '1type' as a synonym of type is deprecated; in a future version of numpy, it will be understood as (type, (1,)) / '(1,)type'.\n",
      "  np_resource = np.dtype([(\"resource\", np.ubyte, 1)])\n"
     ]
    }
   ],
   "source": [
    "from keras.preprocessing.text import one_hot"
   ]
  },
  {
   "cell_type": "code",
   "execution_count": 2,
   "metadata": {},
   "outputs": [],
   "source": [
    "from tensorflow.keras.preprocessing.text import one_hot"
   ]
  },
  {
   "cell_type": "code",
   "execution_count": 3,
   "metadata": {},
   "outputs": [],
   "source": [
    "sent = [  \"My name is shrikant\",\n",
    "       \"i am studiying in computer science\",\n",
    "       \"i wanna be visit manali\",\n",
    "       \"i can go as soon as posible\", \n",
    "       \"this is my big dream\"]"
   ]
  },
  {
   "cell_type": "code",
   "execution_count": 4,
   "metadata": {},
   "outputs": [
    {
     "data": {
      "text/plain": [
       "['My name is shrikant',\n",
       " 'i am studiying in computer science',\n",
       " 'i wanna be visit manali',\n",
       " 'i can go as soon as posible',\n",
       " 'this is my big dream']"
      ]
     },
     "execution_count": 4,
     "metadata": {},
     "output_type": "execute_result"
    }
   ],
   "source": [
    "sent"
   ]
  },
  {
   "cell_type": "code",
   "execution_count": 5,
   "metadata": {},
   "outputs": [],
   "source": [
    "voc_size = 10000"
   ]
  },
  {
   "cell_type": "markdown",
   "metadata": {},
   "source": [
    "### one hot representation"
   ]
  },
  {
   "cell_type": "code",
   "execution_count": 6,
   "metadata": {},
   "outputs": [
    {
     "name": "stdout",
     "output_type": "stream",
     "text": [
      "[[5649, 5644, 3491, 9142], [7683, 6635, 4029, 9656, 7932, 5242], [7683, 4398, 7210, 4877, 3256], [7683, 5962, 974, 5972, 9059, 5972, 8513], [2202, 3491, 5649, 479, 3789]]\n"
     ]
    }
   ],
   "source": [
    "onehot_repre = [one_hot(words, voc_size) for words in sent]\n",
    "print(onehot_repre)"
   ]
  },
  {
   "cell_type": "markdown",
   "metadata": {},
   "source": [
    "### Word Embedding Representation"
   ]
  },
  {
   "cell_type": "code",
   "execution_count": 10,
   "metadata": {},
   "outputs": [],
   "source": [
    "from tensorflow.keras.layers import Embedding\n",
    "from tensorflow.keras.preprocessing.sequence import pad_sequences\n",
    "from tensorflow.keras.models import Sequential\n",
    "import numpy as np"
   ]
  },
  {
   "cell_type": "code",
   "execution_count": 11,
   "metadata": {},
   "outputs": [
    {
     "name": "stdout",
     "output_type": "stream",
     "text": [
      "[[   0    0    0    0 5649 5644 3491 9142]\n",
      " [   0    0 7683 6635 4029 9656 7932 5242]\n",
      " [   0    0    0 7683 4398 7210 4877 3256]\n",
      " [   0 7683 5962  974 5972 9059 5972 8513]\n",
      " [   0    0    0 2202 3491 5649  479 3789]]\n"
     ]
    }
   ],
   "source": [
    "sent_len = 8\n",
    "embedded_docs = pad_sequences(onehot_repre, padding='pre', maxlen=sent_len)\n",
    "print(embedded_docs)"
   ]
  },
  {
   "cell_type": "code",
   "execution_count": 13,
   "metadata": {},
   "outputs": [
    {
     "name": "stdout",
     "output_type": "stream",
     "text": [
      "WARNING:tensorflow:From C:\\Users\\hp\\anaconda\\lib\\site-packages\\tensorflow\\python\\keras\\initializers.py:119: calling RandomUniform.__init__ (from tensorflow.python.ops.init_ops) with dtype is deprecated and will be removed in a future version.\n",
      "Instructions for updating:\n",
      "Call initializer instance with the dtype argument instead of passing it to the constructor\n"
     ]
    }
   ],
   "source": [
    "model=Sequential()\n",
    "model.add(Embedding(voc_size, 10, input_length = sent_len))\n",
    "model.compile('adam', 'mse')"
   ]
  },
  {
   "cell_type": "code",
   "execution_count": 14,
   "metadata": {},
   "outputs": [
    {
     "name": "stdout",
     "output_type": "stream",
     "text": [
      "Model: \"sequential\"\n",
      "_________________________________________________________________\n",
      "Layer (type)                 Output Shape              Param #   \n",
      "=================================================================\n",
      "embedding (Embedding)        (None, 8, 10)             100000    \n",
      "=================================================================\n",
      "Total params: 100,000\n",
      "Trainable params: 100,000\n",
      "Non-trainable params: 0\n",
      "_________________________________________________________________\n"
     ]
    }
   ],
   "source": [
    "model.summary()"
   ]
  },
  {
   "cell_type": "code",
   "execution_count": 15,
   "metadata": {},
   "outputs": [
    {
     "name": "stdout",
     "output_type": "stream",
     "text": [
      "[[[-2.12938674e-02 -2.25849748e-02 -3.55477221e-02  2.52312087e-02\n",
      "   -1.96010713e-02 -3.78076658e-02  2.68041752e-02 -2.87449602e-02\n",
      "    2.69891359e-02  1.74905397e-02]\n",
      "  [-2.12938674e-02 -2.25849748e-02 -3.55477221e-02  2.52312087e-02\n",
      "   -1.96010713e-02 -3.78076658e-02  2.68041752e-02 -2.87449602e-02\n",
      "    2.69891359e-02  1.74905397e-02]\n",
      "  [-2.12938674e-02 -2.25849748e-02 -3.55477221e-02  2.52312087e-02\n",
      "   -1.96010713e-02 -3.78076658e-02  2.68041752e-02 -2.87449602e-02\n",
      "    2.69891359e-02  1.74905397e-02]\n",
      "  [-2.12938674e-02 -2.25849748e-02 -3.55477221e-02  2.52312087e-02\n",
      "   -1.96010713e-02 -3.78076658e-02  2.68041752e-02 -2.87449602e-02\n",
      "    2.69891359e-02  1.74905397e-02]\n",
      "  [-6.90676272e-04 -4.10157666e-02 -6.51922077e-03  4.14856113e-02\n",
      "    3.13902013e-02  2.84967087e-02  4.01015766e-02 -3.13239843e-02\n",
      "   -6.57334179e-03  2.12635882e-02]\n",
      "  [-3.21536437e-02 -1.11287944e-02 -1.04741082e-02  4.44349311e-02\n",
      "   -2.33918186e-02  4.93365191e-02  3.60872410e-02 -2.99518351e-02\n",
      "    3.41282040e-03  1.88601017e-03]\n",
      "  [ 3.90026085e-02 -1.10372081e-02  8.27674940e-03  3.06215174e-02\n",
      "    2.14988701e-02 -8.26674700e-03 -4.32789214e-02 -4.84097004e-03\n",
      "   -4.37001102e-02 -4.74797562e-03]\n",
      "  [ 2.04973109e-02  1.97404511e-02  8.19249079e-03 -1.19925849e-02\n",
      "    1.93981044e-02 -3.86615992e-02 -2.39149220e-02 -2.58197077e-02\n",
      "    1.99872367e-02  2.47043483e-02]]\n",
      "\n",
      " [[-2.12938674e-02 -2.25849748e-02 -3.55477221e-02  2.52312087e-02\n",
      "   -1.96010713e-02 -3.78076658e-02  2.68041752e-02 -2.87449602e-02\n",
      "    2.69891359e-02  1.74905397e-02]\n",
      "  [-2.12938674e-02 -2.25849748e-02 -3.55477221e-02  2.52312087e-02\n",
      "   -1.96010713e-02 -3.78076658e-02  2.68041752e-02 -2.87449602e-02\n",
      "    2.69891359e-02  1.74905397e-02]\n",
      "  [-2.48795748e-02  4.92818840e-02  1.09493732e-03 -2.00449955e-02\n",
      "    2.62509622e-02  3.01499106e-02  2.03099512e-02  1.86394528e-03\n",
      "   -2.27795839e-02 -4.24749143e-02]\n",
      "  [ 7.22564384e-03  1.65422671e-02 -3.28279026e-02  4.53503169e-02\n",
      "   -2.82900464e-02  4.75408770e-02  4.48638238e-02 -1.33256316e-02\n",
      "    3.41467746e-02  4.63105328e-02]\n",
      "  [ 1.49147846e-02 -4.94093411e-02 -4.96716388e-02 -4.71274853e-02\n",
      "   -3.55633609e-02 -3.14507484e-02 -3.74099016e-02 -3.43612321e-02\n",
      "   -2.61453874e-02  3.59105207e-02]\n",
      "  [-4.08523791e-02 -4.61137183e-02  4.31321748e-02 -9.64491442e-03\n",
      "   -2.55229827e-02  1.99857689e-02 -4.78279367e-02 -3.46906297e-02\n",
      "    2.38608830e-02 -1.18604675e-02]\n",
      "  [-2.34025959e-02 -1.43213756e-02  4.55871932e-02 -2.92159077e-02\n",
      "   -2.87080761e-02  2.85965204e-03 -1.07988492e-02 -4.47001308e-03\n",
      "    4.71781753e-02  3.79426405e-03]\n",
      "  [-1.07958317e-02  2.77717002e-02 -4.22860868e-02 -2.61012465e-03\n",
      "   -4.91372012e-02 -1.34696737e-02  2.28741877e-02  3.30308340e-02\n",
      "    2.52406858e-02  4.21819128e-02]]\n",
      "\n",
      " [[-2.12938674e-02 -2.25849748e-02 -3.55477221e-02  2.52312087e-02\n",
      "   -1.96010713e-02 -3.78076658e-02  2.68041752e-02 -2.87449602e-02\n",
      "    2.69891359e-02  1.74905397e-02]\n",
      "  [-2.12938674e-02 -2.25849748e-02 -3.55477221e-02  2.52312087e-02\n",
      "   -1.96010713e-02 -3.78076658e-02  2.68041752e-02 -2.87449602e-02\n",
      "    2.69891359e-02  1.74905397e-02]\n",
      "  [-2.12938674e-02 -2.25849748e-02 -3.55477221e-02  2.52312087e-02\n",
      "   -1.96010713e-02 -3.78076658e-02  2.68041752e-02 -2.87449602e-02\n",
      "    2.69891359e-02  1.74905397e-02]\n",
      "  [-2.48795748e-02  4.92818840e-02  1.09493732e-03 -2.00449955e-02\n",
      "    2.62509622e-02  3.01499106e-02  2.03099512e-02  1.86394528e-03\n",
      "   -2.27795839e-02 -4.24749143e-02]\n",
      "  [ 2.22428888e-03  4.91779931e-02  3.92753594e-02 -4.87241410e-02\n",
      "    4.80860136e-02  2.51537077e-02 -3.52662317e-02  4.15924229e-02\n",
      "    3.42026092e-02 -4.46964279e-02]\n",
      "  [ 3.88065092e-02 -4.98636477e-02 -2.27845069e-02  2.29874142e-02\n",
      "   -3.59204039e-02  3.99561971e-03  4.96591069e-02 -4.97468375e-02\n",
      "   -2.99170371e-02  1.53362751e-03]\n",
      "  [ 1.54936649e-02 -2.26669069e-02  5.60987741e-04  1.75605454e-02\n",
      "   -1.81877613e-02  4.08682339e-02  1.18832588e-02  4.09687273e-02\n",
      "    4.48161997e-02  4.69528474e-02]\n",
      "  [ 9.64217260e-03 -3.65214422e-03 -4.25717235e-02  5.20985201e-03\n",
      "   -3.35387588e-02 -1.71231739e-02  2.27098204e-02 -3.59754674e-02\n",
      "    1.18400939e-02 -2.72691138e-02]]\n",
      "\n",
      " [[-2.12938674e-02 -2.25849748e-02 -3.55477221e-02  2.52312087e-02\n",
      "   -1.96010713e-02 -3.78076658e-02  2.68041752e-02 -2.87449602e-02\n",
      "    2.69891359e-02  1.74905397e-02]\n",
      "  [-2.48795748e-02  4.92818840e-02  1.09493732e-03 -2.00449955e-02\n",
      "    2.62509622e-02  3.01499106e-02  2.03099512e-02  1.86394528e-03\n",
      "   -2.27795839e-02 -4.24749143e-02]\n",
      "  [-3.85043770e-03 -4.61328141e-02 -1.63882971e-02 -3.10757644e-02\n",
      "   -4.80287559e-02 -4.03366908e-02  7.92220980e-03  3.26406211e-04\n",
      "   -2.43996382e-02  1.92977302e-02]\n",
      "  [ 1.95018090e-02  4.91064824e-02 -2.46081594e-02 -4.97349277e-02\n",
      "    3.76215316e-02  3.55346687e-02 -2.28717458e-02 -1.90409664e-02\n",
      "    1.93728246e-02 -1.55634992e-02]\n",
      "  [-1.91887468e-03  3.54778655e-02 -3.20860036e-02  2.10095569e-03\n",
      "    1.27680339e-02 -2.09621321e-02  1.77112855e-02 -1.11785308e-02\n",
      "    1.21214874e-02  2.39341147e-02]\n",
      "  [ 1.42085552e-03 -1.96414478e-02 -7.30685145e-03  4.71324436e-02\n",
      "   -2.31797937e-02 -1.96269751e-02  2.52355374e-02  4.48811688e-02\n",
      "    1.17832534e-02  8.92622396e-03]\n",
      "  [-1.91887468e-03  3.54778655e-02 -3.20860036e-02  2.10095569e-03\n",
      "    1.27680339e-02 -2.09621321e-02  1.77112855e-02 -1.11785308e-02\n",
      "    1.21214874e-02  2.39341147e-02]\n",
      "  [-3.89270894e-02 -4.71216217e-02 -4.74352762e-03  3.25231440e-02\n",
      "    6.36402518e-03 -1.86226591e-02  2.51287706e-02 -4.22429331e-02\n",
      "   -2.20788252e-02 -1.48400553e-02]]\n",
      "\n",
      " [[-2.12938674e-02 -2.25849748e-02 -3.55477221e-02  2.52312087e-02\n",
      "   -1.96010713e-02 -3.78076658e-02  2.68041752e-02 -2.87449602e-02\n",
      "    2.69891359e-02  1.74905397e-02]\n",
      "  [-2.12938674e-02 -2.25849748e-02 -3.55477221e-02  2.52312087e-02\n",
      "   -1.96010713e-02 -3.78076658e-02  2.68041752e-02 -2.87449602e-02\n",
      "    2.69891359e-02  1.74905397e-02]\n",
      "  [-2.12938674e-02 -2.25849748e-02 -3.55477221e-02  2.52312087e-02\n",
      "   -1.96010713e-02 -3.78076658e-02  2.68041752e-02 -2.87449602e-02\n",
      "    2.69891359e-02  1.74905397e-02]\n",
      "  [ 4.90502156e-02 -1.78061798e-03 -4.60796468e-02 -3.37841064e-02\n",
      "   -4.27650809e-02  5.09678200e-03  1.11646056e-02  4.57005538e-02\n",
      "   -2.21310742e-02 -3.48525047e-02]\n",
      "  [ 3.90026085e-02 -1.10372081e-02  8.27674940e-03  3.06215174e-02\n",
      "    2.14988701e-02 -8.26674700e-03 -4.32789214e-02 -4.84097004e-03\n",
      "   -4.37001102e-02 -4.74797562e-03]\n",
      "  [-6.90676272e-04 -4.10157666e-02 -6.51922077e-03  4.14856113e-02\n",
      "    3.13902013e-02  2.84967087e-02  4.01015766e-02 -3.13239843e-02\n",
      "   -6.57334179e-03  2.12635882e-02]\n",
      "  [ 2.85706259e-02 -1.34598836e-02 -3.05927526e-02 -3.87776867e-02\n",
      "    3.72044742e-05 -2.40402352e-02  7.61719793e-03  2.69771926e-02\n",
      "    3.45622934e-02  3.47875431e-03]\n",
      "  [ 3.82356308e-02 -4.22582291e-02  4.59057130e-02 -2.26076376e-02\n",
      "    1.12990029e-02  2.65584700e-02  4.66523655e-02 -2.74292119e-02\n",
      "    3.99643071e-02 -2.56584287e-02]]]\n"
     ]
    }
   ],
   "source": [
    "print(model.predict(embedded_docs))"
   ]
  },
  {
   "cell_type": "code",
   "execution_count": 16,
   "metadata": {},
   "outputs": [
    {
     "data": {
      "text/plain": [
       "array([   0,    0,    0,    0, 5649, 5644, 3491, 9142])"
      ]
     },
     "execution_count": 16,
     "metadata": {},
     "output_type": "execute_result"
    }
   ],
   "source": [
    "embedded_docs[0]"
   ]
  },
  {
   "cell_type": "code",
   "execution_count": 18,
   "metadata": {},
   "outputs": [
    {
     "data": {
      "text/plain": [
       "array([[-0.02129387, -0.02258497, -0.03554772,  0.02523121, -0.01960107,\n",
       "        -0.03780767,  0.02680418, -0.02874496,  0.02698914,  0.01749054],\n",
       "       [-0.02129387, -0.02258497, -0.03554772,  0.02523121, -0.01960107,\n",
       "        -0.03780767,  0.02680418, -0.02874496,  0.02698914,  0.01749054],\n",
       "       [-0.02129387, -0.02258497, -0.03554772,  0.02523121, -0.01960107,\n",
       "        -0.03780767,  0.02680418, -0.02874496,  0.02698914,  0.01749054],\n",
       "       [-0.02129387, -0.02258497, -0.03554772,  0.02523121, -0.01960107,\n",
       "        -0.03780767,  0.02680418, -0.02874496,  0.02698914,  0.01749054],\n",
       "       [-0.00069068, -0.04101577, -0.00651922,  0.04148561,  0.0313902 ,\n",
       "         0.02849671,  0.04010158, -0.03132398, -0.00657334,  0.02126359],\n",
       "       [-0.03215364, -0.01112879, -0.01047411,  0.04443493, -0.02339182,\n",
       "         0.04933652,  0.03608724, -0.02995184,  0.00341282,  0.00188601],\n",
       "       [ 0.03900261, -0.01103721,  0.00827675,  0.03062152,  0.02149887,\n",
       "        -0.00826675, -0.04327892, -0.00484097, -0.04370011, -0.00474798],\n",
       "       [ 0.02049731,  0.01974045,  0.00819249, -0.01199258,  0.0193981 ,\n",
       "        -0.0386616 , -0.02391492, -0.02581971,  0.01998724,  0.02470435]],\n",
       "      dtype=float32)"
      ]
     },
     "execution_count": 18,
     "metadata": {},
     "output_type": "execute_result"
    }
   ],
   "source": [
    "model.predict(embedded_docs)[0]"
   ]
  },
  {
   "cell_type": "code",
   "execution_count": null,
   "metadata": {},
   "outputs": [],
   "source": []
  }
 ],
 "metadata": {
  "kernelspec": {
   "display_name": "Python 3",
   "language": "python",
   "name": "python3"
  },
  "language_info": {
   "codemirror_mode": {
    "name": "ipython",
    "version": 3
   },
   "file_extension": ".py",
   "mimetype": "text/x-python",
   "name": "python",
   "nbconvert_exporter": "python",
   "pygments_lexer": "ipython3",
   "version": "3.7.6"
  }
 },
 "nbformat": 4,
 "nbformat_minor": 4
}
